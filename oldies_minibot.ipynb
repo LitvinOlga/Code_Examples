{
 "cells": [
  {
   "cell_type": "code",
   "execution_count": 8,
   "metadata": {},
   "outputs": [],
   "source": [
    "\"\"\"Бот, поясняющий некоторые слова современного молодежного сленга\"\"\"\n",
    "import pandas as pd\n",
    "from nltk.metrics.distance import edit_distance"
   ]
  },
  {
   "cell_type": "code",
   "execution_count": null,
   "metadata": {},
   "outputs": [],
   "source": [
    "df = pd.read_excel('slang list.xlsx')"
   ]
  },
  {
   "cell_type": "code",
   "execution_count": 3,
   "metadata": {},
   "outputs": [],
   "source": [
    "bot_dic = dict(zip(df['Слово'], df['Значение']))"
   ]
  },
  {
   "cell_type": "code",
   "execution_count": 66,
   "metadata": {},
   "outputs": [],
   "source": [
    "def find_sim(word): # функция для нахождения похожего слова в словаре\n",
    "    if len(word) <= 4: # задаем предельное расстояние преобразования между словами, которое нас устроит\n",
    "        lim_distance = 1\n",
    "    else:    \n",
    "        lim_distance = int(len(word)*0.5)\n",
    "    resword = ''\n",
    "    distance = len(word)\n",
    "    for key in bot_dic.keys():\n",
    "        key = key.lower()\n",
    "        if edit_distance(word, key, transpositions=True) <= lim_distance:\n",
    "            distance = edit_distance(word, key, transpositions=True)\n",
    "            resword = key.capitalize()\n",
    "    if distance <= lim_distance:\n",
    "        return resword, bot_dic[resword]"
   ]
  },
  {
   "cell_type": "code",
   "execution_count": 67,
   "metadata": {},
   "outputs": [],
   "source": [
    "def running_bot(inp): # берем слово из сообщения пользователя и возвращаем результат поиска либо сообщение о том, что ничего не найдено\n",
    "    word = inp.capitalize() \n",
    "    if word in bot_dic.keys(): # если в словаре есть точное совпадение \n",
    "        return bot_dic[word]    \n",
    "    else:\n",
    "        word = word.lower()\n",
    "        res = find_sim(word) # если нет, возвращает похожее\n",
    "        if res is None:\n",
    "            return \"Ничего не найдено\"\n",
    "        else:\n",
    "            return f\"Возможно, вы искали: {res[0]}\\nЗначение: {res[1]}\"\n",
    "        \n",
    "   \n",
    "    "
   ]
  },
  {
   "cell_type": "code",
   "execution_count": null,
   "metadata": {},
   "outputs": [],
   "source": [
    "from telegram import Update\n",
    "from telegram.ext import Updater, CommandHandler, MessageHandler, CallbackContext, Filters\n",
    "\n",
    "def start(update: Update, context: CallbackContext) -> None:\n",
    "    update.message.reply_text(f'Введите слово')\n",
    "\n",
    "\n",
    "def help_command(update, context):\n",
    "    update.message.reply_text('Этот бот подскажет вам значения слов современного молодежного сленга. Вводите по одному слову.')\n",
    "\n",
    "\n",
    "def bot_answer(update, context):\n",
    "    user_input = update.message.text\n",
    "    answer = running_bot(user_input)\n",
    "    update.message.reply_text(answer)\n",
    "\n",
    "\n",
    "def main():\n",
    "    updater = Updater(\"token_dummy\", use_context=True)\n",
    "\n",
    "    dp = updater.dispatcher\n",
    "    dp.add_handler(CommandHandler(\"start\", start))\n",
    "    dp.add_handler(CommandHandler(\"help\", help_command))\n",
    "    dp.add_handler(MessageHandler(Filters.text & ~Filters.command, bot_answer))\n",
    "\n",
    "    updater.start_polling()\n",
    "    updater.idle()"
   ]
  },
  {
   "cell_type": "code",
   "execution_count": null,
   "metadata": {},
   "outputs": [],
   "source": [
    "main()"
   ]
  },
  {
   "cell_type": "code",
   "execution_count": null,
   "metadata": {},
   "outputs": [],
   "source": []
  }
 ],
 "metadata": {
  "kernelspec": {
   "display_name": "Python 3",
   "language": "python",
   "name": "python3"
  },
  "language_info": {
   "codemirror_mode": {
    "name": "ipython",
    "version": 3
   },
   "file_extension": ".py",
   "mimetype": "text/x-python",
   "name": "python",
   "nbconvert_exporter": "python",
   "pygments_lexer": "ipython3",
   "version": "3.7.6"
  }
 },
 "nbformat": 4,
 "nbformat_minor": 4
}
