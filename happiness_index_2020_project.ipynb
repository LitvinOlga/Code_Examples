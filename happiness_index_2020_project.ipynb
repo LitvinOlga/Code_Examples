{
 "cells": [
  {
   "cell_type": "markdown",
   "metadata": {},
   "source": [
    "В этом проекте используется рейтинг стран по уровню счастья за 2020 год (https://www.kaggle.com/yamaerenay/world-happiness-report-preprocessed?select=2020_report.csv)."
   ]
  },
  {
   "cell_type": "code",
   "execution_count": 1,
   "metadata": {},
   "outputs": [],
   "source": [
    "import numpy as np\n",
    "import pandas as pd\n",
    "import matplotlib.pyplot as plt\n",
    "import seaborn as sbn\n",
    "%matplotlib inline\n",
    "\n",
    "from sklearn.model_selection import train_test_split\n",
    "from sklearn.linear_model import LinearRegression\n",
    "from sklearn.ensemble import RandomForestRegressor, GradientBoostingRegressor\n",
    "from sklearn.preprocessing import StandardScaler\n",
    "from sklearn.metrics import mean_squared_error as mse, r2_score as r2\n",
    "\n",
    "import warnings\n",
    "warnings.filterwarnings('ignore')"
   ]
  },
  {
   "cell_type": "code",
   "execution_count": 2,
   "metadata": {},
   "outputs": [],
   "source": [
    "df = pd.read_csv('2020_report.csv')"
   ]
  },
  {
   "cell_type": "code",
   "execution_count": 4,
   "metadata": {},
   "outputs": [
    {
     "data": {
      "text/html": [
       "<div>\n",
       "<style scoped>\n",
       "    .dataframe tbody tr th:only-of-type {\n",
       "        vertical-align: middle;\n",
       "    }\n",
       "\n",
       "    .dataframe tbody tr th {\n",
       "        vertical-align: top;\n",
       "    }\n",
       "\n",
       "    .dataframe thead th {\n",
       "        text-align: right;\n",
       "    }\n",
       "</style>\n",
       "<table border=\"1\" class=\"dataframe\">\n",
       "  <thead>\n",
       "    <tr style=\"text-align: right;\">\n",
       "      <th></th>\n",
       "      <th>country</th>\n",
       "      <th>happiness_score</th>\n",
       "      <th>gdp_per_capita</th>\n",
       "      <th>social_support</th>\n",
       "      <th>health</th>\n",
       "      <th>freedom</th>\n",
       "      <th>generosity</th>\n",
       "      <th>government_trust</th>\n",
       "      <th>dystopia_residual</th>\n",
       "      <th>continent</th>\n",
       "    </tr>\n",
       "  </thead>\n",
       "  <tbody>\n",
       "    <tr>\n",
       "      <th>0</th>\n",
       "      <td>Finland</td>\n",
       "      <td>7.8087</td>\n",
       "      <td>1.285190</td>\n",
       "      <td>1.499526</td>\n",
       "      <td>0.961271</td>\n",
       "      <td>0.662317</td>\n",
       "      <td>0.159670</td>\n",
       "      <td>0.477857</td>\n",
       "      <td>2.762835</td>\n",
       "      <td>Europe</td>\n",
       "    </tr>\n",
       "    <tr>\n",
       "      <th>1</th>\n",
       "      <td>Denmark</td>\n",
       "      <td>7.6456</td>\n",
       "      <td>1.326949</td>\n",
       "      <td>1.503449</td>\n",
       "      <td>0.979333</td>\n",
       "      <td>0.665040</td>\n",
       "      <td>0.242793</td>\n",
       "      <td>0.495260</td>\n",
       "      <td>2.432741</td>\n",
       "      <td>Europe</td>\n",
       "    </tr>\n",
       "    <tr>\n",
       "      <th>2</th>\n",
       "      <td>Switzerland</td>\n",
       "      <td>7.5599</td>\n",
       "      <td>1.390774</td>\n",
       "      <td>1.472403</td>\n",
       "      <td>1.040533</td>\n",
       "      <td>0.628954</td>\n",
       "      <td>0.269056</td>\n",
       "      <td>0.407946</td>\n",
       "      <td>2.350267</td>\n",
       "      <td>Europe</td>\n",
       "    </tr>\n",
       "    <tr>\n",
       "      <th>3</th>\n",
       "      <td>Iceland</td>\n",
       "      <td>7.5045</td>\n",
       "      <td>1.326502</td>\n",
       "      <td>1.547567</td>\n",
       "      <td>1.000843</td>\n",
       "      <td>0.661981</td>\n",
       "      <td>0.362330</td>\n",
       "      <td>0.144541</td>\n",
       "      <td>2.460688</td>\n",
       "      <td>Europe</td>\n",
       "    </tr>\n",
       "    <tr>\n",
       "      <th>4</th>\n",
       "      <td>Norway</td>\n",
       "      <td>7.4880</td>\n",
       "      <td>1.424207</td>\n",
       "      <td>1.495173</td>\n",
       "      <td>1.008072</td>\n",
       "      <td>0.670201</td>\n",
       "      <td>0.287985</td>\n",
       "      <td>0.434101</td>\n",
       "      <td>2.168266</td>\n",
       "      <td>Europe</td>\n",
       "    </tr>\n",
       "  </tbody>\n",
       "</table>\n",
       "</div>"
      ],
      "text/plain": [
       "       country  happiness_score  gdp_per_capita  social_support    health  \\\n",
       "0      Finland           7.8087        1.285190        1.499526  0.961271   \n",
       "1      Denmark           7.6456        1.326949        1.503449  0.979333   \n",
       "2  Switzerland           7.5599        1.390774        1.472403  1.040533   \n",
       "3      Iceland           7.5045        1.326502        1.547567  1.000843   \n",
       "4       Norway           7.4880        1.424207        1.495173  1.008072   \n",
       "\n",
       "    freedom  generosity  government_trust  dystopia_residual continent  \n",
       "0  0.662317    0.159670          0.477857           2.762835    Europe  \n",
       "1  0.665040    0.242793          0.495260           2.432741    Europe  \n",
       "2  0.628954    0.269056          0.407946           2.350267    Europe  \n",
       "3  0.661981    0.362330          0.144541           2.460688    Europe  \n",
       "4  0.670201    0.287985          0.434101           2.168266    Europe  "
      ]
     },
     "execution_count": 4,
     "metadata": {},
     "output_type": "execute_result"
    }
   ],
   "source": [
    "df.head()"
   ]
  },
  {
   "cell_type": "code",
   "execution_count": 5,
   "metadata": {},
   "outputs": [
    {
     "name": "stdout",
     "output_type": "stream",
     "text": [
      "<class 'pandas.core.frame.DataFrame'>\n",
      "RangeIndex: 138 entries, 0 to 137\n",
      "Data columns (total 10 columns):\n",
      " #   Column             Non-Null Count  Dtype  \n",
      "---  ------             --------------  -----  \n",
      " 0   country            138 non-null    object \n",
      " 1   happiness_score    138 non-null    float64\n",
      " 2   gdp_per_capita     138 non-null    float64\n",
      " 3   social_support     138 non-null    float64\n",
      " 4   health             138 non-null    float64\n",
      " 5   freedom            138 non-null    float64\n",
      " 6   generosity         138 non-null    float64\n",
      " 7   government_trust   138 non-null    float64\n",
      " 8   dystopia_residual  138 non-null    float64\n",
      " 9   continent          138 non-null    object \n",
      "dtypes: float64(8), object(2)\n",
      "memory usage: 10.9+ KB\n"
     ]
    }
   ],
   "source": [
    "df.info()"
   ]
  },
  {
   "cell_type": "markdown",
   "metadata": {},
   "source": [
    "В данных нет пустых значений, которые надо было бы заполнить, но столбцы continent и country содержат категориальные данные. Столбец continent имеет смысл превратить в числовые данные, а country сделать индексом. Прежде чем сделать это, можно посмотреть на средние значения по континентам (предсказуемые):"
   ]
  },
  {
   "cell_type": "code",
   "execution_count": 6,
   "metadata": {},
   "outputs": [
    {
     "data": {
      "text/html": [
       "<div>\n",
       "<style scoped>\n",
       "    .dataframe tbody tr th:only-of-type {\n",
       "        vertical-align: middle;\n",
       "    }\n",
       "\n",
       "    .dataframe tbody tr th {\n",
       "        vertical-align: top;\n",
       "    }\n",
       "\n",
       "    .dataframe thead th {\n",
       "        text-align: right;\n",
       "    }\n",
       "</style>\n",
       "<table border=\"1\" class=\"dataframe\">\n",
       "  <thead>\n",
       "    <tr style=\"text-align: right;\">\n",
       "      <th></th>\n",
       "      <th>happiness_score</th>\n",
       "      <th>gdp_per_capita</th>\n",
       "      <th>social_support</th>\n",
       "      <th>health</th>\n",
       "      <th>freedom</th>\n",
       "      <th>generosity</th>\n",
       "      <th>government_trust</th>\n",
       "      <th>dystopia_residual</th>\n",
       "    </tr>\n",
       "    <tr>\n",
       "      <th>continent</th>\n",
       "      <th></th>\n",
       "      <th></th>\n",
       "      <th></th>\n",
       "      <th></th>\n",
       "      <th></th>\n",
       "      <th></th>\n",
       "      <th></th>\n",
       "      <th></th>\n",
       "    </tr>\n",
       "  </thead>\n",
       "  <tbody>\n",
       "    <tr>\n",
       "      <th>Africa</th>\n",
       "      <td>4.504343</td>\n",
       "      <td>0.509736</td>\n",
       "      <td>0.884771</td>\n",
       "      <td>0.428340</td>\n",
       "      <td>0.390560</td>\n",
       "      <td>0.182429</td>\n",
       "      <td>0.107228</td>\n",
       "      <td>2.001281</td>\n",
       "    </tr>\n",
       "    <tr>\n",
       "      <th>Asia</th>\n",
       "      <td>5.280767</td>\n",
       "      <td>0.908411</td>\n",
       "      <td>1.159278</td>\n",
       "      <td>0.725358</td>\n",
       "      <td>0.479340</td>\n",
       "      <td>0.208118</td>\n",
       "      <td>0.123463</td>\n",
       "      <td>1.676795</td>\n",
       "    </tr>\n",
       "    <tr>\n",
       "      <th>Australia</th>\n",
       "      <td>7.261200</td>\n",
       "      <td>1.276357</td>\n",
       "      <td>1.482182</td>\n",
       "      <td>1.015373</td>\n",
       "      <td>0.634334</td>\n",
       "      <td>0.325350</td>\n",
       "      <td>0.398632</td>\n",
       "      <td>2.128956</td>\n",
       "    </tr>\n",
       "    <tr>\n",
       "      <th>Europe</th>\n",
       "      <td>6.392521</td>\n",
       "      <td>1.177794</td>\n",
       "      <td>1.372946</td>\n",
       "      <td>0.896147</td>\n",
       "      <td>0.492415</td>\n",
       "      <td>0.176327</td>\n",
       "      <td>0.164972</td>\n",
       "      <td>2.111921</td>\n",
       "    </tr>\n",
       "    <tr>\n",
       "      <th>North America</th>\n",
       "      <td>6.878900</td>\n",
       "      <td>1.233341</td>\n",
       "      <td>1.355504</td>\n",
       "      <td>0.895240</td>\n",
       "      <td>0.577510</td>\n",
       "      <td>0.220922</td>\n",
       "      <td>0.195707</td>\n",
       "      <td>2.400645</td>\n",
       "    </tr>\n",
       "    <tr>\n",
       "      <th>South America</th>\n",
       "      <td>5.895495</td>\n",
       "      <td>0.824490</td>\n",
       "      <td>1.238736</td>\n",
       "      <td>0.755552</td>\n",
       "      <td>0.509570</td>\n",
       "      <td>0.157382</td>\n",
       "      <td>0.091580</td>\n",
       "      <td>2.318180</td>\n",
       "    </tr>\n",
       "  </tbody>\n",
       "</table>\n",
       "</div>"
      ],
      "text/plain": [
       "               happiness_score  gdp_per_capita  social_support    health  \\\n",
       "continent                                                                  \n",
       "Africa                4.504343        0.509736        0.884771  0.428340   \n",
       "Asia                  5.280767        0.908411        1.159278  0.725358   \n",
       "Australia             7.261200        1.276357        1.482182  1.015373   \n",
       "Europe                6.392521        1.177794        1.372946  0.896147   \n",
       "North America         6.878900        1.233341        1.355504  0.895240   \n",
       "South America         5.895495        0.824490        1.238736  0.755552   \n",
       "\n",
       "                freedom  generosity  government_trust  dystopia_residual  \n",
       "continent                                                                 \n",
       "Africa         0.390560    0.182429          0.107228           2.001281  \n",
       "Asia           0.479340    0.208118          0.123463           1.676795  \n",
       "Australia      0.634334    0.325350          0.398632           2.128956  \n",
       "Europe         0.492415    0.176327          0.164972           2.111921  \n",
       "North America  0.577510    0.220922          0.195707           2.400645  \n",
       "South America  0.509570    0.157382          0.091580           2.318180  "
      ]
     },
     "execution_count": 6,
     "metadata": {},
     "output_type": "execute_result"
    }
   ],
   "source": [
    "df.groupby(by='continent').mean()"
   ]
  },
  {
   "cell_type": "code",
   "execution_count": 7,
   "metadata": {},
   "outputs": [
    {
     "data": {
      "image/png": "[encoded data removed]",
      "text/plain": [
       "<Figure size 432x288 with 1 Axes>"
      ]
     },
     "metadata": {
      "needs_background": "light"
     },
     "output_type": "display_data"
    }
   ],
   "source": [
    "sbn.boxplot(df['happiness_score'],df['continent'])\n",
    "plt.show()"
   ]
  },
  {
   "cell_type": "code",
   "execution_count": 8,
   "metadata": {},
   "outputs": [],
   "source": [
    "df = pd.get_dummies(df, columns=['continent'])"
   ]
  },
  {
   "cell_type": "code",
   "execution_count": 9,
   "metadata": {},
   "outputs": [],
   "source": [
    "df = df.set_index('country')"
   ]
  },
  {
   "cell_type": "code",
   "execution_count": 10,
   "metadata": {},
   "outputs": [
    {
     "data": {
      "text/html": [
       "<div>\n",
       "<style scoped>\n",
       "    .dataframe tbody tr th:only-of-type {\n",
       "        vertical-align: middle;\n",
       "    }\n",
       "\n",
       "    .dataframe tbody tr th {\n",
       "        vertical-align: top;\n",
       "    }\n",
       "\n",
       "    .dataframe thead th {\n",
       "        text-align: right;\n",
       "    }\n",
       "</style>\n",
       "<table border=\"1\" class=\"dataframe\">\n",
       "  <thead>\n",
       "    <tr style=\"text-align: right;\">\n",
       "      <th></th>\n",
       "      <th>happiness_score</th>\n",
       "      <th>gdp_per_capita</th>\n",
       "      <th>social_support</th>\n",
       "      <th>health</th>\n",
       "      <th>freedom</th>\n",
       "      <th>generosity</th>\n",
       "      <th>government_trust</th>\n",
       "      <th>dystopia_residual</th>\n",
       "      <th>continent_Africa</th>\n",
       "      <th>continent_Asia</th>\n",
       "      <th>continent_Australia</th>\n",
       "      <th>continent_Europe</th>\n",
       "      <th>continent_North America</th>\n",
       "      <th>continent_South America</th>\n",
       "    </tr>\n",
       "    <tr>\n",
       "      <th>country</th>\n",
       "      <th></th>\n",
       "      <th></th>\n",
       "      <th></th>\n",
       "      <th></th>\n",
       "      <th></th>\n",
       "      <th></th>\n",
       "      <th></th>\n",
       "      <th></th>\n",
       "      <th></th>\n",
       "      <th></th>\n",
       "      <th></th>\n",
       "      <th></th>\n",
       "      <th></th>\n",
       "      <th></th>\n",
       "    </tr>\n",
       "  </thead>\n",
       "  <tbody>\n",
       "    <tr>\n",
       "      <th>Finland</th>\n",
       "      <td>7.8087</td>\n",
       "      <td>1.285190</td>\n",
       "      <td>1.499526</td>\n",
       "      <td>0.961271</td>\n",
       "      <td>0.662317</td>\n",
       "      <td>0.159670</td>\n",
       "      <td>0.477857</td>\n",
       "      <td>2.762835</td>\n",
       "      <td>0</td>\n",
       "      <td>0</td>\n",
       "      <td>0</td>\n",
       "      <td>1</td>\n",
       "      <td>0</td>\n",
       "      <td>0</td>\n",
       "    </tr>\n",
       "    <tr>\n",
       "      <th>Denmark</th>\n",
       "      <td>7.6456</td>\n",
       "      <td>1.326949</td>\n",
       "      <td>1.503449</td>\n",
       "      <td>0.979333</td>\n",
       "      <td>0.665040</td>\n",
       "      <td>0.242793</td>\n",
       "      <td>0.495260</td>\n",
       "      <td>2.432741</td>\n",
       "      <td>0</td>\n",
       "      <td>0</td>\n",
       "      <td>0</td>\n",
       "      <td>1</td>\n",
       "      <td>0</td>\n",
       "      <td>0</td>\n",
       "    </tr>\n",
       "    <tr>\n",
       "      <th>Switzerland</th>\n",
       "      <td>7.5599</td>\n",
       "      <td>1.390774</td>\n",
       "      <td>1.472403</td>\n",
       "      <td>1.040533</td>\n",
       "      <td>0.628954</td>\n",
       "      <td>0.269056</td>\n",
       "      <td>0.407946</td>\n",
       "      <td>2.350267</td>\n",
       "      <td>0</td>\n",
       "      <td>0</td>\n",
       "      <td>0</td>\n",
       "      <td>1</td>\n",
       "      <td>0</td>\n",
       "      <td>0</td>\n",
       "    </tr>\n",
       "    <tr>\n",
       "      <th>Iceland</th>\n",
       "      <td>7.5045</td>\n",
       "      <td>1.326502</td>\n",
       "      <td>1.547567</td>\n",
       "      <td>1.000843</td>\n",
       "      <td>0.661981</td>\n",
       "      <td>0.362330</td>\n",
       "      <td>0.144541</td>\n",
       "      <td>2.460688</td>\n",
       "      <td>0</td>\n",
       "      <td>0</td>\n",
       "      <td>0</td>\n",
       "      <td>1</td>\n",
       "      <td>0</td>\n",
       "      <td>0</td>\n",
       "    </tr>\n",
       "    <tr>\n",
       "      <th>Norway</th>\n",
       "      <td>7.4880</td>\n",
       "      <td>1.424207</td>\n",
       "      <td>1.495173</td>\n",
       "      <td>1.008072</td>\n",
       "      <td>0.670201</td>\n",
       "      <td>0.287985</td>\n",
       "      <td>0.434101</td>\n",
       "      <td>2.168266</td>\n",
       "      <td>0</td>\n",
       "      <td>0</td>\n",
       "      <td>0</td>\n",
       "      <td>1</td>\n",
       "      <td>0</td>\n",
       "      <td>0</td>\n",
       "    </tr>\n",
       "  </tbody>\n",
       "</table>\n",
       "</div>"
      ],
      "text/plain": [
       "             happiness_score  gdp_per_capita  social_support    health  \\\n",
       "country                                                                  \n",
       "Finland               7.8087        1.285190        1.499526  0.961271   \n",
       "Denmark               7.6456        1.326949        1.503449  0.979333   \n",
       "Switzerland           7.5599        1.390774        1.472403  1.040533   \n",
       "Iceland               7.5045        1.326502        1.547567  1.000843   \n",
       "Norway                7.4880        1.424207        1.495173  1.008072   \n",
       "\n",
       "              freedom  generosity  government_trust  dystopia_residual  \\\n",
       "country                                                                  \n",
       "Finland      0.662317    0.159670          0.477857           2.762835   \n",
       "Denmark      0.665040    0.242793          0.495260           2.432741   \n",
       "Switzerland  0.628954    0.269056          0.407946           2.350267   \n",
       "Iceland      0.661981    0.362330          0.144541           2.460688   \n",
       "Norway       0.670201    0.287985          0.434101           2.168266   \n",
       "\n",
       "             continent_Africa  continent_Asia  continent_Australia  \\\n",
       "country                                                              \n",
       "Finland                     0               0                    0   \n",
       "Denmark                     0               0                    0   \n",
       "Switzerland                 0               0                    0   \n",
       "Iceland                     0               0                    0   \n",
       "Norway                      0               0                    0   \n",
       "\n",
       "             continent_Europe  continent_North America  \\\n",
       "country                                                  \n",
       "Finland                     1                        0   \n",
       "Denmark                     1                        0   \n",
       "Switzerland                 1                        0   \n",
       "Iceland                     1                        0   \n",
       "Norway                      1                        0   \n",
       "\n",
       "             continent_South America  \n",
       "country                               \n",
       "Finland                            0  \n",
       "Denmark                            0  \n",
       "Switzerland                        0  \n",
       "Iceland                            0  \n",
       "Norway                             0  "
      ]
     },
     "execution_count": 10,
     "metadata": {},
     "output_type": "execute_result"
    }
   ],
   "source": [
    "df.head()"
   ]
  },
  {
   "cell_type": "code",
   "execution_count": 11,
   "metadata": {},
   "outputs": [
    {
     "data": {
      "image/png": "[encoded data removed]",
      "text/plain": [
       "<Figure size 1080x720 with 6 Axes>"
      ]
     },
     "metadata": {},
     "output_type": "display_data"
    }
   ],
   "source": [
    "plt.style.use('seaborn')\n",
    "y = df['happiness_score']\n",
    "fig, ax = plt.subplots(nrows=2, ncols=3)\n",
    "ax1, ax2, ax3, ax4, ax5, ax6 = ax.flatten()\n",
    "fig.set_size_inches(15, 10)\n",
    "ax1.scatter(df['gdp_per_capita'], y)\n",
    "ax1.set_title('ВВП')\n",
    "ax2.scatter(df['social_support'], y)\n",
    "ax2.set_title('Соцподдержка')\n",
    "ax3.scatter(df['health'], y)\n",
    "ax3.set_title('Здоровье')\n",
    "ax4.scatter(df['freedom'], y)\n",
    "ax4.set_title('Свобода')\n",
    "ax5.scatter(df['generosity'], y)\n",
    "ax5.set_title('Доброта')\n",
    "ax6.scatter(df['government_trust'], y)\n",
    "ax6.set_title('Доверие правительству')\n",
    "plt.show()"
   ]
  },
  {
   "cell_type": "markdown",
   "metadata": {},
   "source": [
    "Более выражена линейная зависимость оценки счастья от признаков gdp_per_capita, social_support и health; вероятно, можно отбросить признаки government_trust и generosity, и возможно даже freedom (как ни странно)."
   ]
  },
  {
   "cell_type": "code",
   "execution_count": 24,
   "metadata": {},
   "outputs": [
    {
     "data": {
      "image/png": "[encoded data removed]",
      "text/plain": [
       "<Figure size 576x396 with 1 Axes>"
      ]
     },
     "metadata": {},
     "output_type": "display_data"
    }
   ],
   "source": [
    "plt.boxplot(df.loc[:,'gdp_per_capita':'government_trust'].to_numpy(),vert=False,whis=(1,99),labels=['ВВП','Соцподдержка','Здоровье','Свобода','Доброта','Доверие правительству'])\n",
    "plt.show()"
   ]
  },
  {
   "cell_type": "markdown",
   "metadata": {},
   "source": [
    "Также на боксплоте видны выбросы, которые попробуем заменить на среднее (их удаление приводило к ухудшению моделей). Значения квантилей выбраны экспериментальным путем."
   ]
  },
  {
   "cell_type": "code",
   "execution_count": 25,
   "metadata": {},
   "outputs": [
    {
     "data": {
      "text/plain": [
       "['Luxembourg',\n",
       " 'Singapore',\n",
       " 'Congo (Kinshasa)',\n",
       " 'Burundi',\n",
       " 'Iceland',\n",
       " 'Benin',\n",
       " 'Turkmenistan',\n",
       " 'Afghanistan',\n",
       " 'Singapore',\n",
       " 'Japan',\n",
       " 'Ivory Coast',\n",
       " 'Chad',\n",
       " 'Uzbekistan',\n",
       " 'Algeria',\n",
       " 'Cambodia',\n",
       " 'Afghanistan',\n",
       " 'Greece',\n",
       " 'Indonesia',\n",
       " 'Myanmar',\n",
       " 'Botswana',\n",
       " 'Denmark',\n",
       " 'Singapore',\n",
       " 'Romania',\n",
       " 'Bulgaria']"
      ]
     },
     "execution_count": 25,
     "metadata": {},
     "output_type": "execute_result"
    }
   ],
   "source": [
    "cols = [n for n in df.loc[:,'gdp_per_capita':'government_trust'].columns]\n",
    "outliers = []\n",
    "for col in cols:\n",
    "    m = df[col].mean()\n",
    "    out = df[(df[col] < df[col].quantile(0.01)) | (df[col] > df[col].quantile(0.99))].index\n",
    "    for country in out:\n",
    "        df.loc[country, col] = m\n",
    "        outliers.append(country)\n",
    "outliers"
   ]
  },
  {
   "cell_type": "code",
   "execution_count": 27,
   "metadata": {},
   "outputs": [
    {
     "data": {
      "image/png": "[encoded data removed]",
      "text/plain": [
       "<Figure size 576x396 with 1 Axes>"
      ]
     },
     "metadata": {},
     "output_type": "display_data"
    }
   ],
   "source": [
    "plt.boxplot(df.loc[:,'gdp_per_capita':'government_trust'].to_numpy(),vert=False, whis=(1,99), labels=['ВВП','Соцподдержка','Здоровье','Свобода','Доброта','Доверие правительству'])\n",
    "plt.show()"
   ]
  },
  {
   "cell_type": "code",
   "execution_count": 28,
   "metadata": {},
   "outputs": [
    {
     "data": {
      "text/html": [
       "<div>\n",
       "<style scoped>\n",
       "    .dataframe tbody tr th:only-of-type {\n",
       "        vertical-align: middle;\n",
       "    }\n",
       "\n",
       "    .dataframe tbody tr th {\n",
       "        vertical-align: top;\n",
       "    }\n",
       "\n",
       "    .dataframe thead th {\n",
       "        text-align: right;\n",
       "    }\n",
       "</style>\n",
       "<table border=\"1\" class=\"dataframe\">\n",
       "  <thead>\n",
       "    <tr style=\"text-align: right;\">\n",
       "      <th></th>\n",
       "      <th>happiness_score</th>\n",
       "      <th>gdp_per_capita</th>\n",
       "      <th>social_support</th>\n",
       "      <th>health</th>\n",
       "      <th>freedom</th>\n",
       "      <th>generosity</th>\n",
       "      <th>government_trust</th>\n",
       "      <th>dystopia_residual</th>\n",
       "      <th>continent_Africa</th>\n",
       "      <th>continent_Asia</th>\n",
       "      <th>continent_Australia</th>\n",
       "      <th>continent_Europe</th>\n",
       "      <th>continent_North America</th>\n",
       "      <th>continent_South America</th>\n",
       "    </tr>\n",
       "  </thead>\n",
       "  <tbody>\n",
       "    <tr>\n",
       "      <th>count</th>\n",
       "      <td>138.000000</td>\n",
       "      <td>138.000000</td>\n",
       "      <td>138.000000</td>\n",
       "      <td>138.000000</td>\n",
       "      <td>138.000000</td>\n",
       "      <td>138.000000</td>\n",
       "      <td>138.000000</td>\n",
       "      <td>138.000000</td>\n",
       "      <td>138.000000</td>\n",
       "      <td>138.000000</td>\n",
       "      <td>138.000000</td>\n",
       "      <td>138.000000</td>\n",
       "      <td>138.000000</td>\n",
       "      <td>138.000000</td>\n",
       "    </tr>\n",
       "    <tr>\n",
       "      <th>mean</th>\n",
       "      <td>5.550574</td>\n",
       "      <td>0.886676</td>\n",
       "      <td>1.177133</td>\n",
       "      <td>0.713232</td>\n",
       "      <td>0.472359</td>\n",
       "      <td>0.184367</td>\n",
       "      <td>0.128382</td>\n",
       "      <td>1.997306</td>\n",
       "      <td>0.253623</td>\n",
       "      <td>0.282609</td>\n",
       "      <td>0.014493</td>\n",
       "      <td>0.282609</td>\n",
       "      <td>0.021739</td>\n",
       "      <td>0.144928</td>\n",
       "    </tr>\n",
       "    <tr>\n",
       "      <th>std</th>\n",
       "      <td>1.100890</td>\n",
       "      <td>0.339641</td>\n",
       "      <td>0.251400</td>\n",
       "      <td>0.220259</td>\n",
       "      <td>0.127049</td>\n",
       "      <td>0.088703</td>\n",
       "      <td>0.105016</td>\n",
       "      <td>0.560026</td>\n",
       "      <td>0.436669</td>\n",
       "      <td>0.451908</td>\n",
       "      <td>0.119946</td>\n",
       "      <td>0.451908</td>\n",
       "      <td>0.146362</td>\n",
       "      <td>0.353310</td>\n",
       "    </tr>\n",
       "    <tr>\n",
       "      <th>min</th>\n",
       "      <td>2.566900</td>\n",
       "      <td>0.108330</td>\n",
       "      <td>0.403575</td>\n",
       "      <td>0.167836</td>\n",
       "      <td>0.169298</td>\n",
       "      <td>0.035712</td>\n",
       "      <td>0.001172</td>\n",
       "      <td>0.257241</td>\n",
       "      <td>0.000000</td>\n",
       "      <td>0.000000</td>\n",
       "      <td>0.000000</td>\n",
       "      <td>0.000000</td>\n",
       "      <td>0.000000</td>\n",
       "      <td>0.000000</td>\n",
       "    </tr>\n",
       "    <tr>\n",
       "      <th>25%</th>\n",
       "      <td>4.774825</td>\n",
       "      <td>0.623429</td>\n",
       "      <td>1.037891</td>\n",
       "      <td>0.576264</td>\n",
       "      <td>0.386430</td>\n",
       "      <td>0.116384</td>\n",
       "      <td>0.059730</td>\n",
       "      <td>1.685173</td>\n",
       "      <td>0.000000</td>\n",
       "      <td>0.000000</td>\n",
       "      <td>0.000000</td>\n",
       "      <td>0.000000</td>\n",
       "      <td>0.000000</td>\n",
       "      <td>0.000000</td>\n",
       "    </tr>\n",
       "    <tr>\n",
       "      <th>50%</th>\n",
       "      <td>5.550900</td>\n",
       "      <td>0.918472</td>\n",
       "      <td>1.206196</td>\n",
       "      <td>0.761604</td>\n",
       "      <td>0.486442</td>\n",
       "      <td>0.172538</td>\n",
       "      <td>0.099167</td>\n",
       "      <td>2.054998</td>\n",
       "      <td>0.000000</td>\n",
       "      <td>0.000000</td>\n",
       "      <td>0.000000</td>\n",
       "      <td>0.000000</td>\n",
       "      <td>0.000000</td>\n",
       "      <td>0.000000</td>\n",
       "    </tr>\n",
       "    <tr>\n",
       "      <th>75%</th>\n",
       "      <td>6.298750</td>\n",
       "      <td>1.168706</td>\n",
       "      <td>1.385016</td>\n",
       "      <td>0.852542</td>\n",
       "      <td>0.579054</td>\n",
       "      <td>0.252509</td>\n",
       "      <td>0.158477</td>\n",
       "      <td>2.376544</td>\n",
       "      <td>0.750000</td>\n",
       "      <td>1.000000</td>\n",
       "      <td>0.000000</td>\n",
       "      <td>1.000000</td>\n",
       "      <td>0.000000</td>\n",
       "      <td>0.000000</td>\n",
       "    </tr>\n",
       "    <tr>\n",
       "      <th>max</th>\n",
       "      <td>7.808700</td>\n",
       "      <td>1.446887</td>\n",
       "      <td>1.503449</td>\n",
       "      <td>1.051343</td>\n",
       "      <td>0.670201</td>\n",
       "      <td>0.463910</td>\n",
       "      <td>0.485542</td>\n",
       "      <td>3.440810</td>\n",
       "      <td>1.000000</td>\n",
       "      <td>1.000000</td>\n",
       "      <td>1.000000</td>\n",
       "      <td>1.000000</td>\n",
       "      <td>1.000000</td>\n",
       "      <td>1.000000</td>\n",
       "    </tr>\n",
       "  </tbody>\n",
       "</table>\n",
       "</div>"
      ],
      "text/plain": [
       "       happiness_score  gdp_per_capita  social_support      health  \\\n",
       "count       138.000000      138.000000      138.000000  138.000000   \n",
       "mean          5.550574        0.886676        1.177133    0.713232   \n",
       "std           1.100890        0.339641        0.251400    0.220259   \n",
       "min           2.566900        0.108330        0.403575    0.167836   \n",
       "25%           4.774825        0.623429        1.037891    0.576264   \n",
       "50%           5.550900        0.918472        1.206196    0.761604   \n",
       "75%           6.298750        1.168706        1.385016    0.852542   \n",
       "max           7.808700        1.446887        1.503449    1.051343   \n",
       "\n",
       "          freedom  generosity  government_trust  dystopia_residual  \\\n",
       "count  138.000000  138.000000        138.000000         138.000000   \n",
       "mean     0.472359    0.184367          0.128382           1.997306   \n",
       "std      0.127049    0.088703          0.105016           0.560026   \n",
       "min      0.169298    0.035712          0.001172           0.257241   \n",
       "25%      0.386430    0.116384          0.059730           1.685173   \n",
       "50%      0.486442    0.172538          0.099167           2.054998   \n",
       "75%      0.579054    0.252509          0.158477           2.376544   \n",
       "max      0.670201    0.463910          0.485542           3.440810   \n",
       "\n",
       "       continent_Africa  continent_Asia  continent_Australia  \\\n",
       "count        138.000000      138.000000           138.000000   \n",
       "mean           0.253623        0.282609             0.014493   \n",
       "std            0.436669        0.451908             0.119946   \n",
       "min            0.000000        0.000000             0.000000   \n",
       "25%            0.000000        0.000000             0.000000   \n",
       "50%            0.000000        0.000000             0.000000   \n",
       "75%            0.750000        1.000000             0.000000   \n",
       "max            1.000000        1.000000             1.000000   \n",
       "\n",
       "       continent_Europe  continent_North America  continent_South America  \n",
       "count        138.000000               138.000000               138.000000  \n",
       "mean           0.282609                 0.021739                 0.144928  \n",
       "std            0.451908                 0.146362                 0.353310  \n",
       "min            0.000000                 0.000000                 0.000000  \n",
       "25%            0.000000                 0.000000                 0.000000  \n",
       "50%            0.000000                 0.000000                 0.000000  \n",
       "75%            1.000000                 0.000000                 0.000000  \n",
       "max            1.000000                 1.000000                 1.000000  "
      ]
     },
     "execution_count": 28,
     "metadata": {},
     "output_type": "execute_result"
    }
   ],
   "source": [
    "df.describe()"
   ]
  },
  {
   "cell_type": "markdown",
   "metadata": {},
   "source": [
    "Данные варьируются у разных признаков в разных диапазонах, поэтому следует их стандартизировать."
   ]
  },
  {
   "cell_type": "code",
   "execution_count": 29,
   "metadata": {},
   "outputs": [],
   "source": [
    "scaler = StandardScaler()\n",
    "feat_names = [n for n in df.columns]\n",
    "features_st = scaler.fit_transform(df)\n",
    "df_st = pd.DataFrame(features_st, columns=feat_names)"
   ]
  },
  {
   "cell_type": "markdown",
   "metadata": {},
   "source": [
    "Поскольку целевая переменная - непрерывная величина, для машинного обучения следует применить модель линейной регрессии."
   ]
  },
  {
   "cell_type": "markdown",
   "metadata": {},
   "source": [
    "1) Обучение модели линейной регрессии на всех признаках"
   ]
  },
  {
   "cell_type": "code",
   "execution_count": 30,
   "metadata": {},
   "outputs": [],
   "source": [
    "# сначала разбиение датасета на тренировочный и проверочный наборы:\n",
    "X = df_st[feat_names[1:14]]\n",
    "y = df['happiness_score']\n",
    "X_train, X_test, y_train, y_test = train_test_split(X, y, test_size=0.33, shuffle=True, random_state=42)"
   ]
  },
  {
   "cell_type": "code",
   "execution_count": 31,
   "metadata": {},
   "outputs": [
    {
     "data": {
      "text/plain": [
       "LinearRegression(copy_X=True, fit_intercept=True, n_jobs=None, normalize=False)"
      ]
     },
     "execution_count": 31,
     "metadata": {},
     "output_type": "execute_result"
    }
   ],
   "source": [
    "lr = LinearRegression()\n",
    "lr.fit(X_train, y_train)"
   ]
  },
  {
   "cell_type": "code",
   "execution_count": 32,
   "metadata": {},
   "outputs": [],
   "source": [
    "y_pred = lr.predict(X_test)"
   ]
  },
  {
   "cell_type": "code",
   "execution_count": 33,
   "metadata": {},
   "outputs": [
    {
     "data": {
      "text/html": [
       "<div>\n",
       "<style scoped>\n",
       "    .dataframe tbody tr th:only-of-type {\n",
       "        vertical-align: middle;\n",
       "    }\n",
       "\n",
       "    .dataframe tbody tr th {\n",
       "        vertical-align: top;\n",
       "    }\n",
       "\n",
       "    .dataframe thead th {\n",
       "        text-align: right;\n",
       "    }\n",
       "</style>\n",
       "<table border=\"1\" class=\"dataframe\">\n",
       "  <thead>\n",
       "    <tr style=\"text-align: right;\">\n",
       "      <th></th>\n",
       "      <th>y_test</th>\n",
       "      <th>y_pred</th>\n",
       "    </tr>\n",
       "    <tr>\n",
       "      <th>country</th>\n",
       "      <th></th>\n",
       "      <th></th>\n",
       "    </tr>\n",
       "  </thead>\n",
       "  <tbody>\n",
       "    <tr>\n",
       "      <th>Bulgaria</th>\n",
       "      <td>5.1015</td>\n",
       "      <td>5.308278</td>\n",
       "    </tr>\n",
       "    <tr>\n",
       "      <th>Mali</th>\n",
       "      <td>4.7293</td>\n",
       "      <td>4.473289</td>\n",
       "    </tr>\n",
       "    <tr>\n",
       "      <th>United Kingdom</th>\n",
       "      <td>7.1645</td>\n",
       "      <td>7.282571</td>\n",
       "    </tr>\n",
       "    <tr>\n",
       "      <th>Spain</th>\n",
       "      <td>6.4009</td>\n",
       "      <td>6.473517</td>\n",
       "    </tr>\n",
       "    <tr>\n",
       "      <th>Paraguay</th>\n",
       "      <td>5.6921</td>\n",
       "      <td>5.790305</td>\n",
       "    </tr>\n",
       "  </tbody>\n",
       "</table>\n",
       "</div>"
      ],
      "text/plain": [
       "                y_test    y_pred\n",
       "country                         \n",
       "Bulgaria        5.1015  5.308278\n",
       "Mali            4.7293  4.473289\n",
       "United Kingdom  7.1645  7.282571\n",
       "Spain           6.4009  6.473517\n",
       "Paraguay        5.6921  5.790305"
      ]
     },
     "execution_count": 33,
     "metadata": {},
     "output_type": "execute_result"
    }
   ],
   "source": [
    "# предсказанные vs фактические значения\n",
    "compare = pd.DataFrame({'y_test': y_test,\n",
    "                     'y_pred': y_pred})\n",
    "compare.head()"
   ]
  },
  {
   "cell_type": "code",
   "execution_count": 34,
   "metadata": {},
   "outputs": [],
   "source": [
    "# оценка модели:\n",
    "mse_1 = mse(compare['y_pred'], compare['y_test'])\n",
    "r2_1 = r2(compare['y_pred'], compare['y_test'])"
   ]
  },
  {
   "cell_type": "code",
   "execution_count": 35,
   "metadata": {},
   "outputs": [
    {
     "data": {
      "text/plain": [
       "0.024482383684389843"
      ]
     },
     "execution_count": 35,
     "metadata": {},
     "output_type": "execute_result"
    }
   ],
   "source": [
    "mse_1"
   ]
  },
  {
   "cell_type": "code",
   "execution_count": 36,
   "metadata": {},
   "outputs": [
    {
     "data": {
      "text/plain": [
       "0.9818103642497233"
      ]
     },
     "execution_count": 36,
     "metadata": {},
     "output_type": "execute_result"
    }
   ],
   "source": [
    "r2_1"
   ]
  },
  {
   "cell_type": "markdown",
   "metadata": {},
   "source": [
    "Результаты работы модели по всем признакам подозрительно точные, возможно, это связано с наличием признака dystopia_residual, который не влияет на happiness_score, а рассчитывается отдельно (https://worldhappiness.report/faq/)."
   ]
  },
  {
   "cell_type": "code",
   "execution_count": 37,
   "metadata": {},
   "outputs": [
    {
     "data": {
      "text/html": [
       "<div>\n",
       "<style scoped>\n",
       "    .dataframe tbody tr th:only-of-type {\n",
       "        vertical-align: middle;\n",
       "    }\n",
       "\n",
       "    .dataframe tbody tr th {\n",
       "        vertical-align: top;\n",
       "    }\n",
       "\n",
       "    .dataframe thead th {\n",
       "        text-align: right;\n",
       "    }\n",
       "</style>\n",
       "<table border=\"1\" class=\"dataframe\">\n",
       "  <thead>\n",
       "    <tr style=\"text-align: right;\">\n",
       "      <th></th>\n",
       "      <th>feature_name</th>\n",
       "      <th>coef</th>\n",
       "    </tr>\n",
       "  </thead>\n",
       "  <tbody>\n",
       "    <tr>\n",
       "      <th>6</th>\n",
       "      <td>dystopia_residual</td>\n",
       "      <td>0.496635</td>\n",
       "    </tr>\n",
       "    <tr>\n",
       "      <th>0</th>\n",
       "      <td>gdp_per_capita</td>\n",
       "      <td>0.331921</td>\n",
       "    </tr>\n",
       "    <tr>\n",
       "      <th>2</th>\n",
       "      <td>health</td>\n",
       "      <td>0.270150</td>\n",
       "    </tr>\n",
       "    <tr>\n",
       "      <th>1</th>\n",
       "      <td>social_support</td>\n",
       "      <td>0.249533</td>\n",
       "    </tr>\n",
       "    <tr>\n",
       "      <th>3</th>\n",
       "      <td>freedom</td>\n",
       "      <td>0.175680</td>\n",
       "    </tr>\n",
       "    <tr>\n",
       "      <th>5</th>\n",
       "      <td>government_trust</td>\n",
       "      <td>0.108579</td>\n",
       "    </tr>\n",
       "    <tr>\n",
       "      <th>4</th>\n",
       "      <td>generosity</td>\n",
       "      <td>0.106955</td>\n",
       "    </tr>\n",
       "    <tr>\n",
       "      <th>8</th>\n",
       "      <td>continent_Asia</td>\n",
       "      <td>0.011357</td>\n",
       "    </tr>\n",
       "    <tr>\n",
       "      <th>10</th>\n",
       "      <td>continent_Europe</td>\n",
       "      <td>0.009628</td>\n",
       "    </tr>\n",
       "    <tr>\n",
       "      <th>12</th>\n",
       "      <td>continent_South America</td>\n",
       "      <td>0.009376</td>\n",
       "    </tr>\n",
       "    <tr>\n",
       "      <th>11</th>\n",
       "      <td>continent_North America</td>\n",
       "      <td>0.000402</td>\n",
       "    </tr>\n",
       "    <tr>\n",
       "      <th>9</th>\n",
       "      <td>continent_Australia</td>\n",
       "      <td>-0.018991</td>\n",
       "    </tr>\n",
       "    <tr>\n",
       "      <th>7</th>\n",
       "      <td>continent_Africa</td>\n",
       "      <td>-0.024222</td>\n",
       "    </tr>\n",
       "  </tbody>\n",
       "</table>\n",
       "</div>"
      ],
      "text/plain": [
       "               feature_name      coef\n",
       "6         dystopia_residual  0.496635\n",
       "0            gdp_per_capita  0.331921\n",
       "2                    health  0.270150\n",
       "1            social_support  0.249533\n",
       "3                   freedom  0.175680\n",
       "5          government_trust  0.108579\n",
       "4                generosity  0.106955\n",
       "8            continent_Asia  0.011357\n",
       "10         continent_Europe  0.009628\n",
       "12  continent_South America  0.009376\n",
       "11  continent_North America  0.000402\n",
       "9       continent_Australia -0.018991\n",
       "7          continent_Africa -0.024222"
      ]
     },
     "execution_count": 37,
     "metadata": {},
     "output_type": "execute_result"
    }
   ],
   "source": [
    "feature_coef = pd.DataFrame(zip(X_train.columns, lr.coef_.round(6)), columns=['feature_name', 'coef'])\n",
    "\n",
    "feature_coef.sort_values(by='coef', ascending=False, inplace=True)\n",
    "feature_coef"
   ]
  },
  {
   "cell_type": "markdown",
   "metadata": {},
   "source": [
    "Высокий коэффициент признака dystopia_residual говорит в пользу этого предположения."
   ]
  },
  {
   "cell_type": "markdown",
   "metadata": {},
   "source": [
    "2. Обучение модели линейной регрессии на выборочном наборе признаков (без dystopia_residual)"
   ]
  },
  {
   "cell_type": "code",
   "execution_count": 38,
   "metadata": {},
   "outputs": [],
   "source": [
    "df_d = df.drop('dystopia_residual',axis=1) # отбрасываем dystopia_residual\n",
    "features = [n for n in df_d.columns]\n",
    "df_prep = df[features]"
   ]
  },
  {
   "cell_type": "code",
   "execution_count": 39,
   "metadata": {},
   "outputs": [],
   "source": [
    "features_st = scaler.fit_transform(df_prep)\n",
    "df_st = pd.DataFrame(features_st, columns=features)"
   ]
  },
  {
   "cell_type": "code",
   "execution_count": 40,
   "metadata": {},
   "outputs": [],
   "source": [
    "# сначала разбиение датасета на тренировочный и проверочный наборы:\n",
    "X = df_st.iloc[:, 1:13]\n",
    "y = df['happiness_score']\n",
    "X_train, X_test, y_train, y_test = train_test_split(X, y, test_size=0.33, shuffle=True, random_state=42)"
   ]
  },
  {
   "cell_type": "code",
   "execution_count": 41,
   "metadata": {},
   "outputs": [
    {
     "data": {
      "text/plain": [
       "LinearRegression(copy_X=True, fit_intercept=True, n_jobs=None, normalize=False)"
      ]
     },
     "execution_count": 41,
     "metadata": {},
     "output_type": "execute_result"
    }
   ],
   "source": [
    "lr.fit(X_train, y_train)"
   ]
  },
  {
   "cell_type": "code",
   "execution_count": 42,
   "metadata": {},
   "outputs": [],
   "source": [
    "y_pred = lr.predict(X_test)"
   ]
  },
  {
   "cell_type": "code",
   "execution_count": 43,
   "metadata": {},
   "outputs": [
    {
     "data": {
      "text/html": [
       "<div>\n",
       "<style scoped>\n",
       "    .dataframe tbody tr th:only-of-type {\n",
       "        vertical-align: middle;\n",
       "    }\n",
       "\n",
       "    .dataframe tbody tr th {\n",
       "        vertical-align: top;\n",
       "    }\n",
       "\n",
       "    .dataframe thead th {\n",
       "        text-align: right;\n",
       "    }\n",
       "</style>\n",
       "<table border=\"1\" class=\"dataframe\">\n",
       "  <thead>\n",
       "    <tr style=\"text-align: right;\">\n",
       "      <th></th>\n",
       "      <th>y_test</th>\n",
       "      <th>y_pred</th>\n",
       "    </tr>\n",
       "    <tr>\n",
       "      <th>country</th>\n",
       "      <th></th>\n",
       "      <th></th>\n",
       "    </tr>\n",
       "  </thead>\n",
       "  <tbody>\n",
       "    <tr>\n",
       "      <th>Bulgaria</th>\n",
       "      <td>5.1015</td>\n",
       "      <td>5.975903</td>\n",
       "    </tr>\n",
       "    <tr>\n",
       "      <th>Mali</th>\n",
       "      <td>4.7293</td>\n",
       "      <td>4.037676</td>\n",
       "    </tr>\n",
       "    <tr>\n",
       "      <th>United Kingdom</th>\n",
       "      <td>7.1645</td>\n",
       "      <td>7.192509</td>\n",
       "    </tr>\n",
       "    <tr>\n",
       "      <th>Spain</th>\n",
       "      <td>6.4009</td>\n",
       "      <td>6.594143</td>\n",
       "    </tr>\n",
       "    <tr>\n",
       "      <th>Paraguay</th>\n",
       "      <td>5.6921</td>\n",
       "      <td>6.312159</td>\n",
       "    </tr>\n",
       "  </tbody>\n",
       "</table>\n",
       "</div>"
      ],
      "text/plain": [
       "                y_test    y_pred\n",
       "country                         \n",
       "Bulgaria        5.1015  5.975903\n",
       "Mali            4.7293  4.037676\n",
       "United Kingdom  7.1645  7.192509\n",
       "Spain           6.4009  6.594143\n",
       "Paraguay        5.6921  6.312159"
      ]
     },
     "execution_count": 43,
     "metadata": {},
     "output_type": "execute_result"
    }
   ],
   "source": [
    "# предсказанные vs фактические значения\n",
    "compare = pd.DataFrame({'y_test': y_test,\n",
    "                     'y_pred': y_pred})\n",
    "compare.head()"
   ]
  },
  {
   "cell_type": "code",
   "execution_count": 44,
   "metadata": {},
   "outputs": [],
   "source": [
    "# оценка модели:\n",
    "mse_2 = mse(compare['y_pred'], compare['y_test'])\n",
    "r2_2 = r2(compare['y_pred'], compare['y_test'])"
   ]
  },
  {
   "cell_type": "code",
   "execution_count": 45,
   "metadata": {},
   "outputs": [
    {
     "data": {
      "text/plain": [
       "0.21755506682073553"
      ]
     },
     "execution_count": 45,
     "metadata": {},
     "output_type": "execute_result"
    }
   ],
   "source": [
    "mse_2"
   ]
  },
  {
   "cell_type": "code",
   "execution_count": 46,
   "metadata": {},
   "outputs": [
    {
     "data": {
      "text/plain": [
       "0.8017513414909282"
      ]
     },
     "execution_count": 46,
     "metadata": {},
     "output_type": "execute_result"
    }
   ],
   "source": [
    "r2_2"
   ]
  },
  {
   "cell_type": "markdown",
   "metadata": {},
   "source": [
    "Результаты правдоподобнее первой модели."
   ]
  },
  {
   "cell_type": "markdown",
   "metadata": {},
   "source": [
    "3) В порядке эксперимента, предположим, что happiness_score можно спрогнозировать по трем наиболее значимым признакам: ВВП, соцподдержке и здоровью:"
   ]
  },
  {
   "cell_type": "code",
   "execution_count": 47,
   "metadata": {},
   "outputs": [
    {
     "data": {
      "image/png": "[encoded data removed]",
      "text/plain": [
       "<Figure size 576x396 with 1 Axes>"
      ]
     },
     "metadata": {},
     "output_type": "display_data"
    }
   ],
   "source": [
    "y = df['happiness_score']\n",
    "plt.scatter(df['gdp_per_capita'], y, color='red', alpha=0.5, label='ВВП')\n",
    "plt.scatter(df['social_support'], y, color='green', alpha=0.5, label='Соцподдержка')\n",
    "plt.scatter(df['health'], y, color='yellow', alpha=0.5, label='Здоровье')\n",
    "plt.ylabel('Уровень счастья')\n",
    "plt.title('Индекс счастья')\n",
    "plt.legend()\n",
    "plt.show()"
   ]
  },
  {
   "cell_type": "code",
   "execution_count": 48,
   "metadata": {},
   "outputs": [],
   "source": [
    "X = df_st[['gdp_per_capita','social_support', 'health']]\n",
    "y = df['happiness_score']\n",
    "X_train, X_test, y_train, y_test = train_test_split(X, y, test_size=0.33, shuffle=True, random_state=42)"
   ]
  },
  {
   "cell_type": "code",
   "execution_count": 49,
   "metadata": {},
   "outputs": [
    {
     "data": {
      "text/plain": [
       "LinearRegression(copy_X=True, fit_intercept=True, n_jobs=None, normalize=False)"
      ]
     },
     "execution_count": 49,
     "metadata": {},
     "output_type": "execute_result"
    }
   ],
   "source": [
    "lr.fit(X_train, y_train)"
   ]
  },
  {
   "cell_type": "code",
   "execution_count": 50,
   "metadata": {},
   "outputs": [],
   "source": [
    "y_pred = lr.predict(X_test)"
   ]
  },
  {
   "cell_type": "code",
   "execution_count": 51,
   "metadata": {},
   "outputs": [
    {
     "data": {
      "text/html": [
       "<div>\n",
       "<style scoped>\n",
       "    .dataframe tbody tr th:only-of-type {\n",
       "        vertical-align: middle;\n",
       "    }\n",
       "\n",
       "    .dataframe tbody tr th {\n",
       "        vertical-align: top;\n",
       "    }\n",
       "\n",
       "    .dataframe thead th {\n",
       "        text-align: right;\n",
       "    }\n",
       "</style>\n",
       "<table border=\"1\" class=\"dataframe\">\n",
       "  <thead>\n",
       "    <tr style=\"text-align: right;\">\n",
       "      <th></th>\n",
       "      <th>y_test</th>\n",
       "      <th>y_pred</th>\n",
       "    </tr>\n",
       "    <tr>\n",
       "      <th>country</th>\n",
       "      <th></th>\n",
       "      <th></th>\n",
       "    </tr>\n",
       "  </thead>\n",
       "  <tbody>\n",
       "    <tr>\n",
       "      <th>Bulgaria</th>\n",
       "      <td>5.1015</td>\n",
       "      <td>6.152795</td>\n",
       "    </tr>\n",
       "    <tr>\n",
       "      <th>Mali</th>\n",
       "      <td>4.7293</td>\n",
       "      <td>3.941914</td>\n",
       "    </tr>\n",
       "    <tr>\n",
       "      <th>United Kingdom</th>\n",
       "      <td>7.1645</td>\n",
       "      <td>6.726748</td>\n",
       "    </tr>\n",
       "    <tr>\n",
       "      <th>Spain</th>\n",
       "      <td>6.4009</td>\n",
       "      <td>6.798153</td>\n",
       "    </tr>\n",
       "    <tr>\n",
       "      <th>Paraguay</th>\n",
       "      <td>5.6921</td>\n",
       "      <td>5.840059</td>\n",
       "    </tr>\n",
       "  </tbody>\n",
       "</table>\n",
       "</div>"
      ],
      "text/plain": [
       "                y_test    y_pred\n",
       "country                         \n",
       "Bulgaria        5.1015  6.152795\n",
       "Mali            4.7293  3.941914\n",
       "United Kingdom  7.1645  6.726748\n",
       "Spain           6.4009  6.798153\n",
       "Paraguay        5.6921  5.840059"
      ]
     },
     "execution_count": 51,
     "metadata": {},
     "output_type": "execute_result"
    }
   ],
   "source": [
    "# предсказанные vs фактические значения\n",
    "compare = pd.DataFrame({'y_test': y_test,\n",
    "                     'y_pred': y_pred})\n",
    "compare.head()"
   ]
  },
  {
   "cell_type": "code",
   "execution_count": 52,
   "metadata": {},
   "outputs": [],
   "source": [
    "# оценка модели:\n",
    "mse_3 = mse(compare['y_pred'], compare['y_test'])\n",
    "r2_3 = r2(compare['y_pred'], compare['y_test'])"
   ]
  },
  {
   "cell_type": "code",
   "execution_count": 53,
   "metadata": {},
   "outputs": [
    {
     "data": {
      "text/plain": [
       "0.2863024617165324"
      ]
     },
     "execution_count": 53,
     "metadata": {},
     "output_type": "execute_result"
    }
   ],
   "source": [
    "mse_3"
   ]
  },
  {
   "cell_type": "code",
   "execution_count": 54,
   "metadata": {},
   "outputs": [
    {
     "data": {
      "text/plain": [
       "0.6927251119167156"
      ]
     },
     "execution_count": 54,
     "metadata": {},
     "output_type": "execute_result"
    }
   ],
   "source": [
    "r2_3"
   ]
  },
  {
   "cell_type": "markdown",
   "metadata": {},
   "source": [
    "Результаты оказались хуже второй модели (то есть без freedom никак)."
   ]
  },
  {
   "cell_type": "markdown",
   "metadata": {},
   "source": [
    "4) Для сравнения применяем модель RandomForestRegressor"
   ]
  },
  {
   "cell_type": "code",
   "execution_count": 55,
   "metadata": {},
   "outputs": [],
   "source": [
    "# на том же наборе признаков, что и лучшая по результату модель линейной регрессии (то есть со всеми признаками, кроме dystopia_residual)\n",
    "X = df_st.iloc[:, 1:13]\n",
    "y = df['happiness_score']\n",
    "X_train, X_test, y_train, y_test = train_test_split(X, y, test_size=0.33, shuffle=True, random_state=42)"
   ]
  },
  {
   "cell_type": "code",
   "execution_count": 56,
   "metadata": {},
   "outputs": [
    {
     "data": {
      "text/plain": [
       "RandomForestRegressor(bootstrap=True, ccp_alpha=0.0, criterion='mse',\n",
       "                      max_depth=10, max_features='auto', max_leaf_nodes=None,\n",
       "                      max_samples=None, min_impurity_decrease=0.0,\n",
       "                      min_impurity_split=None, min_samples_leaf=1,\n",
       "                      min_samples_split=2, min_weight_fraction_leaf=0.0,\n",
       "                      n_estimators=500, n_jobs=None, oob_score=False,\n",
       "                      random_state=42, verbose=0, warm_start=False)"
      ]
     },
     "execution_count": 56,
     "metadata": {},
     "output_type": "execute_result"
    }
   ],
   "source": [
    "rf = RandomForestRegressor(n_estimators=500, max_depth=10, random_state=42)\n",
    "rf.fit(X_train, y_train)"
   ]
  },
  {
   "cell_type": "code",
   "execution_count": 57,
   "metadata": {},
   "outputs": [],
   "source": [
    "y_pred = rf.predict(X_test)"
   ]
  },
  {
   "cell_type": "code",
   "execution_count": 58,
   "metadata": {},
   "outputs": [
    {
     "data": {
      "text/html": [
       "<div>\n",
       "<style scoped>\n",
       "    .dataframe tbody tr th:only-of-type {\n",
       "        vertical-align: middle;\n",
       "    }\n",
       "\n",
       "    .dataframe tbody tr th {\n",
       "        vertical-align: top;\n",
       "    }\n",
       "\n",
       "    .dataframe thead th {\n",
       "        text-align: right;\n",
       "    }\n",
       "</style>\n",
       "<table border=\"1\" class=\"dataframe\">\n",
       "  <thead>\n",
       "    <tr style=\"text-align: right;\">\n",
       "      <th></th>\n",
       "      <th>y_test</th>\n",
       "      <th>y_pred</th>\n",
       "    </tr>\n",
       "    <tr>\n",
       "      <th>country</th>\n",
       "      <th></th>\n",
       "      <th></th>\n",
       "    </tr>\n",
       "  </thead>\n",
       "  <tbody>\n",
       "    <tr>\n",
       "      <th>Bulgaria</th>\n",
       "      <td>5.1015</td>\n",
       "      <td>6.070218</td>\n",
       "    </tr>\n",
       "    <tr>\n",
       "      <th>Mali</th>\n",
       "      <td>4.7293</td>\n",
       "      <td>4.609360</td>\n",
       "    </tr>\n",
       "    <tr>\n",
       "      <th>United Kingdom</th>\n",
       "      <td>7.1645</td>\n",
       "      <td>7.042210</td>\n",
       "    </tr>\n",
       "    <tr>\n",
       "      <th>Spain</th>\n",
       "      <td>6.4009</td>\n",
       "      <td>6.683559</td>\n",
       "    </tr>\n",
       "    <tr>\n",
       "      <th>Paraguay</th>\n",
       "      <td>5.6921</td>\n",
       "      <td>6.098117</td>\n",
       "    </tr>\n",
       "  </tbody>\n",
       "</table>\n",
       "</div>"
      ],
      "text/plain": [
       "                y_test    y_pred\n",
       "country                         \n",
       "Bulgaria        5.1015  6.070218\n",
       "Mali            4.7293  4.609360\n",
       "United Kingdom  7.1645  7.042210\n",
       "Spain           6.4009  6.683559\n",
       "Paraguay        5.6921  6.098117"
      ]
     },
     "execution_count": 58,
     "metadata": {},
     "output_type": "execute_result"
    }
   ],
   "source": [
    "# предсказанные vs фактические значения\n",
    "compare = pd.DataFrame({'y_test': y_test,\n",
    "                     'y_pred': y_pred})\n",
    "compare.head()"
   ]
  },
  {
   "cell_type": "code",
   "execution_count": 59,
   "metadata": {},
   "outputs": [],
   "source": [
    "# оценка модели:\n",
    "mse_4 = mse(compare['y_pred'], compare['y_test'])\n",
    "r2_4 = r2(compare['y_pred'], compare['y_test'])"
   ]
  },
  {
   "cell_type": "code",
   "execution_count": 60,
   "metadata": {},
   "outputs": [
    {
     "data": {
      "text/plain": [
       "0.20446163678120866"
      ]
     },
     "execution_count": 60,
     "metadata": {},
     "output_type": "execute_result"
    }
   ],
   "source": [
    "mse_4"
   ]
  },
  {
   "cell_type": "code",
   "execution_count": 61,
   "metadata": {},
   "outputs": [
    {
     "data": {
      "text/plain": [
       "0.7714010917839331"
      ]
     },
     "execution_count": 61,
     "metadata": {},
     "output_type": "execute_result"
    }
   ],
   "source": [
    "r2_4"
   ]
  },
  {
   "cell_type": "markdown",
   "metadata": {},
   "source": [
    "Похожие результаты были и у GradientBoostingRegressor. Результаты модели RandomForestRegressor чуть хуже, чем у модели линейной регрессии в ее лучшем варианте:"
   ]
  },
  {
   "cell_type": "code",
   "execution_count": 62,
   "metadata": {},
   "outputs": [
    {
     "data": {
      "text/html": [
       "<div>\n",
       "<style scoped>\n",
       "    .dataframe tbody tr th:only-of-type {\n",
       "        vertical-align: middle;\n",
       "    }\n",
       "\n",
       "    .dataframe tbody tr th {\n",
       "        vertical-align: top;\n",
       "    }\n",
       "\n",
       "    .dataframe thead th {\n",
       "        text-align: right;\n",
       "    }\n",
       "</style>\n",
       "<table border=\"1\" class=\"dataframe\">\n",
       "  <thead>\n",
       "    <tr style=\"text-align: right;\">\n",
       "      <th></th>\n",
       "      <th>MSE</th>\n",
       "      <th>R2</th>\n",
       "    </tr>\n",
       "  </thead>\n",
       "  <tbody>\n",
       "    <tr>\n",
       "      <th>lr1</th>\n",
       "      <td>0.024482</td>\n",
       "      <td>0.981810</td>\n",
       "    </tr>\n",
       "    <tr>\n",
       "      <th>lr2</th>\n",
       "      <td>0.217555</td>\n",
       "      <td>0.801751</td>\n",
       "    </tr>\n",
       "    <tr>\n",
       "      <th>rfr</th>\n",
       "      <td>0.204462</td>\n",
       "      <td>0.771401</td>\n",
       "    </tr>\n",
       "    <tr>\n",
       "      <th>lr3</th>\n",
       "      <td>0.286302</td>\n",
       "      <td>0.692725</td>\n",
       "    </tr>\n",
       "  </tbody>\n",
       "</table>\n",
       "</div>"
      ],
      "text/plain": [
       "          MSE        R2\n",
       "lr1  0.024482  0.981810\n",
       "lr2  0.217555  0.801751\n",
       "rfr  0.204462  0.771401\n",
       "lr3  0.286302  0.692725"
      ]
     },
     "execution_count": 62,
     "metadata": {},
     "output_type": "execute_result"
    }
   ],
   "source": [
    "res = pd.DataFrame({'MSE' : [mse_1, mse_2, mse_3, mse_4],\n",
    "                   'R2' : [r2_1, r2_2, r2_3, r2_4]}, index=['lr1', 'lr2', 'lr3', 'rfr'])\n",
    "res.sort_values('R2', ascending=False)"
   ]
  },
  {
   "cell_type": "markdown",
   "metadata": {},
   "source": [
    "Выводы. Самый хороший результат без признака dystopia_residual показала модель линейной регрессии после после замены выбросов на среднее (до удаления выбросов максимальное достижение метрики r2 составляло около 0.76)."
   ]
  },
  {
   "cell_type": "code",
   "execution_count": null,
   "metadata": {},
   "outputs": [],
   "source": []
  }
 ],
 "metadata": {
  "kernelspec": {
   "display_name": "Python 3",
   "language": "python",
   "name": "python3"
  },
  "language_info": {
   "codemirror_mode": {
    "name": "ipython",
    "version": 3
   },
   "file_extension": ".py",
   "mimetype": "text/x-python",
   "name": "python",
   "nbconvert_exporter": "python",
   "pygments_lexer": "ipython3",
   "version": "3.7.6"
  }
 },
 "nbformat": 4,
 "nbformat_minor": 4
}
